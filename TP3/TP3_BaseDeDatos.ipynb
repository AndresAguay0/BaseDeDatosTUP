{
  "cells": [
    {
      "cell_type": "markdown",
      "source": [
        "# Código de inicialización\n",
        "Este código permite inicializar las bibliotecas para usar SQLite en la máquina virtual de Google Colab. El código además elimina cualquier dato almacenado anteriormente en el archvio `ejemplos.db`. Es recomendable volver a correr el código cada vez que se comience con la resolución de un nuevo ejercicio."
      ],
      "metadata": {
        "id": "QuMn1Lbbdz7p"
      },
      "id": "QuMn1Lbbdz7p"
    },
    {
      "cell_type": "code",
      "source": [
        "!pip install pymysql\n",
        "%load_ext sql\n",
        "!rm -rf ejemplos.db\n",
        "%sql sqlite:///ejemplos.db"
      ],
      "metadata": {
        "id": "DRIupxipNuoC",
        "colab": {
          "base_uri": "https://localhost:8080/"
        },
        "outputId": "251b1f17-8768-49dc-db09-35d7db181915"
      },
      "id": "DRIupxipNuoC",
      "execution_count": 1,
      "outputs": [
        {
          "output_type": "stream",
          "name": "stdout",
          "text": [
            "Requirement already satisfied: pymysql in /usr/local/lib/python3.10/dist-packages (1.1.1)\n"
          ]
        }
      ]
    },
    {
      "cell_type": "markdown",
      "source": [
        "# EJERCICIOS DE GROUP y HAVING"
      ],
      "metadata": {
        "id": "cVK-sijYVIH5"
      },
      "id": "cVK-sijYVIH5"
    },
    {
      "cell_type": "markdown",
      "metadata": {
        "id": "NsVx4_K4NiXp"
      },
      "source": [
        "## Ejercicio 1: Ventas por Ciudad de distintos insumos informáticos\n",
        "\n",
        "Tienes dos tablas llamadas `Ventas` y `Productos`:\n",
        "\n",
        "- La tabla `Ventas` tiene las siguientes columnas:\n",
        "  - `VentaID` (INT)\n",
        "  - `ProductoID` (INT, FOREIGN KEY que referencia a `Productos(ProductoID)`)\n",
        "  - `CantidadVendida` (INT)\n",
        "  - `PrecioUnitario` (DECIMAL)\n",
        "  - `Ciudad` (VARCHAR)\n",
        "\n",
        "- La tabla `Productos` tiene las siguientes columnas:\n",
        "  - `ProductoID` (INT, PRIMARY KEY)\n",
        "  - `NombreProducto` (VARCHAR)\n",
        "  - `Precio` (DECIMAL)\n",
        "\n",
        "Deseas analizar las ventas por ciudad, combinando la información de ambas tablas para mostrar el nombre de los productos vendidos y el total de ingresos generados por cada ciudad."
      ],
      "id": "NsVx4_K4NiXp"
    },
    {
      "cell_type": "code",
      "execution_count": 2,
      "metadata": {
        "id": "k5xOpu04NiXr",
        "colab": {
          "base_uri": "https://localhost:8080/"
        },
        "outputId": "75839e21-931c-4cee-a565-6df3cfcca508"
      },
      "outputs": [
        {
          "output_type": "stream",
          "name": "stdout",
          "text": [
            " * sqlite:///ejemplos.db\n",
            "Done.\n",
            "Done.\n"
          ]
        },
        {
          "output_type": "execute_result",
          "data": {
            "text/plain": [
              "[]"
            ]
          },
          "metadata": {},
          "execution_count": 2
        }
      ],
      "source": [
        "%%sql\n",
        "create table Ventas (\n",
        "  VentaID INT,\n",
        "  ProductoID INT,\n",
        "  CantidadVendida INT,\n",
        "  PrecioUnitario DECIMAL,\n",
        "  Ciudad VARCHAR,\n",
        "  FOREIGN KEY (ProductoID) REFERENCES Productos(ProductoID)\n",
        ");\n",
        "create table Productos (\n",
        "  ProductoID INT PRIMARY KEY,\n",
        "  NombreProducto VARCHAR,\n",
        "  Precio DECIMAL\n",
        ");"
      ],
      "id": "k5xOpu04NiXr"
    },
    {
      "cell_type": "markdown",
      "metadata": {
        "id": "im4yKrVtNiXt"
      },
      "source": [
        "**Rellenado de la tabla Ventas**\n",
        "\n"
      ],
      "id": "im4yKrVtNiXt"
    },
    {
      "cell_type": "code",
      "execution_count": null,
      "id": "71b6196d",
      "metadata": {
        "id": "71b6196d",
        "colab": {
          "base_uri": "https://localhost:8080/"
        },
        "outputId": "d1355bbf-26a3-4dd4-e9e4-b39d59216b82"
      },
      "outputs": [
        {
          "output_type": "stream",
          "name": "stderr",
          "text": [
            "UsageError: Cell magic `%%sql` not found.\n"
          ]
        }
      ],
      "source": [
        "# Población de la tabla Ventas\n",
        "# Insertar datos en la tabla Ventas\n",
        "%%sql\n",
        "INSERT INTO Ventas (VentaID, ProductoID, CantidadVendida, PrecioUnitario, Ciudad) VALUES (5, 1, 6, 45.00, 'Buenos Aires');\n",
        "INSERT INTO Ventas (VentaID, ProductoID, CantidadVendida, PrecioUnitario, Ciudad) VALUES (6, 12, 9, 35.00, 'Córdoba');\n",
        "INSERT INTO Ventas (VentaID, ProductoID, CantidadVendida, PrecioUnitario, Ciudad) VALUES (7, 2, 4, 20.00, 'Rosario');\n",
        "INSERT INTO Ventas (VentaID, ProductoID, CantidadVendida, PrecioUnitario, Ciudad) VALUES (8, 13, 12, 60.00, 'Mendoza');\n",
        "INSERT INTO Ventas (VentaID, ProductoID, CantidadVendida, PrecioUnitario, Ciudad) VALUES (9, 3, 7, 55.00, 'La Plata');\n",
        "INSERT INTO Ventas (VentaID, ProductoID, CantidadVendida, PrecioUnitario, Ciudad) VALUES (10, 3, 5, 32.50, 'San Miguel de Tucumán');\n",
        "INSERT INTO Ventas (VentaID, ProductoID, CantidadVendida, PrecioUnitario, Ciudad) VALUES (11, 11, 3, 28.00, 'Salta');\n",
        "INSERT INTO Ventas (VentaID, ProductoID, CantidadVendida, PrecioUnitario, Ciudad) VALUES (12, 11, 8, 40.00, 'Mar del Plata');\n",
        "INSERT INTO Ventas (VentaID, ProductoID, CantidadVendida, PrecioUnitario, Ciudad) VALUES (13, 11, 11, 70.00, 'Santa Fe');\n",
        "INSERT INTO Ventas (VentaID, ProductoID, CantidadVendida, PrecioUnitario, Ciudad) VALUES (14, 11, 4, 25.00, 'San Juan');\n",
        "INSERT INTO Ventas (VentaID, ProductoID, CantidadVendida, PrecioUnitario, Ciudad) VALUES (15, 11, 9, 35.00, 'Neuquén');\n",
        "INSERT INTO Ventas (VentaID, ProductoID, CantidadVendida, PrecioUnitario, Ciudad) VALUES (16, 11, 6, 45.00, 'Posadas');\n",
        "INSERT INTO Ventas (VentaID, ProductoID, CantidadVendida, PrecioUnitario, Ciudad) VALUES (17, 13, 10, 50.00, 'Bahía Blanca');\n",
        "INSERT INTO Ventas (VentaID, ProductoID, CantidadVendida, PrecioUnitario, Ciudad) VALUES (18, 11, 12, 65.00, 'San Salvador de Jujuy');\n",
        "INSERT INTO Ventas (VentaID, ProductoID, CantidadVendida, PrecioUnitario, Ciudad) VALUES (19, 15, 3, 22.50, 'Comodoro Rivadavia');\n",
        "\n",
        "INSERT INTO Productos (ProductoID, NombreProducto, Precio) VALUES (1, 'Teclado Mecánico', 75.00);\n",
        "INSERT INTO Productos (ProductoID, NombreProducto, Precio) VALUES (2, 'Mouse Inalámbrico', 45.00);\n",
        "INSERT INTO Productos (ProductoID, NombreProducto, Precio) VALUES (3, 'Monitor 24 Pulgadas', 150.00);\n",
        "INSERT INTO Productos (ProductoID, NombreProducto, Precio) VALUES (4, 'Disco Duro SSD 1TB', 120.00);\n",
        "INSERT INTO Productos (ProductoID, NombreProducto, Precio) VALUES (5, 'Memoria RAM 16GB', 80.00);\n",
        "INSERT INTO Productos (ProductoID, NombreProducto, Precio) VALUES (6, 'Placa Madre ATX', 200.00);\n",
        "INSERT INTO Productos (ProductoID, NombreProducto, Precio) VALUES (7, 'Tarjeta Gráfica 6GB', 350.00);\n",
        "INSERT INTO Productos (ProductoID, NombreProducto, Precio) VALUES (8, 'Auriculares con Micrófono', 60.00);\n",
        "INSERT INTO Productos (ProductoID, NombreProducto, Precio) VALUES (9, 'Cámara Web HD', 55.00);\n",
        "INSERT INTO Productos (ProductoID, NombreProducto, Precio) VALUES (10, 'Micrófono de Condensador', 90.00);\n",
        "INSERT INTO Productos (ProductoID, NombreProducto, Precio) VALUES (11, 'Router WiFi 6', 130.00);\n",
        "INSERT INTO Productos (ProductoID, NombreProducto, Precio) VALUES (12, 'Impresora Láser', 180.00);\n",
        "INSERT INTO Productos (ProductoID, NombreProducto, Precio) VALUES (13, 'Soporte Monitor Ajustable', 25.00);\n",
        "INSERT INTO Productos (ProductoID, NombreProducto, Precio) VALUES (14, 'Teclado Inalámbrico', 50.00);\n",
        "INSERT INTO Productos (ProductoID, NombreProducto, Precio) VALUES (15, 'Mouse Gaming', 40.00);\n",
        "\n"
      ]
    },
    {
      "cell_type": "markdown",
      "metadata": {
        "id": "622zROEDNiXt"
      },
      "source": [
        "**Consignas del ejercicio:**\n",
        "\n",
        "1. Encuentre el total de ingresos (`CantidadVendida * PrecioUnitario`) por cada ciudad.\n"
      ],
      "id": "622zROEDNiXt"
    },
    {
      "cell_type": "code",
      "execution_count": null,
      "metadata": {
        "id": "zuIw9B9UNiXu",
        "colab": {
          "base_uri": "https://localhost:8080/"
        },
        "outputId": "da04e6b0-c2c2-4528-fe85-75b3d68dc941"
      },
      "outputs": [
        {
          "output_type": "stream",
          "name": "stderr",
          "text": [
            "UsageError: Cell magic `%%sql` not found.\n"
          ]
        }
      ],
      "source": [
        "%%sql\n",
        "SELECT Ciudad, SUM(CantidadVendida * PrecioUnitario) AS TotalIngresos\n",
        "FROM Ventas\n",
        "GROUP BY Ciudad;"
      ],
      "id": "zuIw9B9UNiXu"
    },
    {
      "cell_type": "markdown",
      "id": "b96bb132",
      "metadata": {
        "id": "b96bb132"
      },
      "source": [
        "2. Escriba el código SQL para listar las Ciudades cuyo total de ingresos supera los $500."
      ]
    },
    {
      "cell_type": "code",
      "execution_count": null,
      "metadata": {
        "id": "ACqNMaDGNiXu"
      },
      "outputs": [],
      "source": [
        "%%sql\n",
        "SELECT Ciudad, SUM(CantidadVendida * PrecioUnitario) AS TotalIngresos\n",
        "FROM Ventas\n",
        "GROUP BY Ciudad\n",
        "HAVING TotalIngresos > 500;"
      ],
      "id": "ACqNMaDGNiXu"
    },
    {
      "cell_type": "markdown",
      "id": "7a6a43fe",
      "metadata": {
        "id": "7a6a43fe"
      },
      "source": [
        "3. Modifique la consulta del inciso 2 para ordenar las Ciudades de mayor a menor ingreso total."
      ]
    },
    {
      "cell_type": "code",
      "execution_count": null,
      "metadata": {
        "id": "kzhBe0qENiXv"
      },
      "outputs": [],
      "source": [
        "%%sql\n",
        "SELECT Ciudad, SUM(CantidadVendida * PrecioUnitario) AS TotalIngresos\n",
        "FROM Ventas\n",
        "GROUP BY Ciudad\n",
        "HAVING TotalIngresos > 500\n",
        "ORDER BY TotalIngresos DESC;"
      ],
      "id": "kzhBe0qENiXv"
    },
    {
      "cell_type": "markdown",
      "metadata": {
        "id": "fRufPLTENiXv"
      },
      "source": [
        "## Ejercicio 2: Promedio de Calificaciones por Curso\n",
        "\n",
        "Considera las siguientes tres tablas:\n",
        "\n",
        "- La tabla **Estudiantes** contiene información sobre los estudiantes inscritos:\n",
        "  - `EstudianteID` (INT, PRIMARY KEY)\n",
        "  - `Nombre` (VARCHAR)\n",
        "\n",
        "- La tabla **Cursos** contiene información sobre los cursos disponibles:\n",
        "  - `CursoID` (INT, PRIMARY KEY)\n",
        "  - `NombreCurso` (VARCHAR)\n",
        "\n",
        "- La tabla **Calificaciones** registra las notas de los estudiantes en los cursos:\n",
        "  - `CalificacionID` (INT, PRIMARY KEY)\n",
        "  - `EstudianteID` (INT, FOREIGN KEY que referencia a `Estudiantes(EstudianteID)`)\n",
        "  - `CursoID` (INT, FOREIGN KEY que referencia a `Cursos(CursoID)`)\n",
        "  - `Nota` (DECIMAL)\n",
        "\n",
        "En este ejercicio, debes analizar el rendimiento de los estudiantes en cada curso, combinando la información de las tres tablas."
      ],
      "id": "fRufPLTENiXv"
    },
    {
      "cell_type": "code",
      "execution_count": 2,
      "metadata": {
        "id": "xd4jJS-oNiXv",
        "colab": {
          "base_uri": "https://localhost:8080/"
        },
        "outputId": "36fbf16d-358b-45fe-c428-df879610ea47"
      },
      "outputs": [
        {
          "output_type": "stream",
          "name": "stdout",
          "text": [
            " * sqlite:///ejemplos.db\n",
            "Done.\n",
            "Done.\n",
            "Done.\n"
          ]
        },
        {
          "output_type": "execute_result",
          "data": {
            "text/plain": [
              "[]"
            ]
          },
          "metadata": {},
          "execution_count": 2
        }
      ],
      "source": [
        "%%sql\n",
        "create table Estudiantes (\n",
        "  EstudianteID INT PRIMARY KEY,\n",
        "  Nombre VARCHAR\n",
        ");\n",
        "create table Cursos (\n",
        "  CursoID INT PRIMARY KEY,\n",
        "  NombreCurso VARCHAR\n",
        ");\n",
        "create table Calificaciones (\n",
        "  CalificacionID INT PRIMARY KEY,\n",
        "  EstudianteID INT,\n",
        "  CursoID INT,\n",
        "  Nota DECIMAL,\n",
        "  FOREIGN KEY (EstudianteID) REFERENCES Estudiantes(EstudianteID),\n",
        "  FOREIGN KEY (CursoID) REFERENCES Cursos(CursoID)\n",
        ");"
      ],
      "id": "xd4jJS-oNiXv"
    },
    {
      "cell_type": "markdown",
      "metadata": {
        "id": "urovVyAXNiXw"
      },
      "source": [
        "**Población de la tabla Calificaciones**\n",
        "\n"
      ],
      "id": "urovVyAXNiXw"
    },
    {
      "cell_type": "code",
      "execution_count": null,
      "metadata": {
        "id": "fqMJXxAUNiXw"
      },
      "outputs": [],
      "source": [
        "# Insertar datos en la tabla Calificaciones\n",
        "%%sql\n",
        "\n",
        "INSERT INTO Estudiantes (EstudianteID, Nombre) VALUES (1001, 'Carlos');\n",
        "INSERT INTO Estudiantes (EstudianteID, Nombre) VALUES (1002, 'Maria');\n",
        "INSERT INTO Estudiantes (EstudianteID, Nombre) VALUES (1003, 'Juan');\n",
        "INSERT INTO Estudiantes (EstudianteID, Nombre) VALUES (1004, 'Ana');\n",
        "INSERT INTO Estudiantes (EstudianteID, Nombre) VALUES (1005, 'Luis');\n",
        "INSERT INTO Estudiantes (EstudianteID, Nombre) VALUES (1006, 'Sofia');\n",
        "INSERT INTO Estudiantes (EstudianteID, Nombre) VALUES (1007, 'Diego');\n",
        "INSERT INTO Estudiantes (EstudianteID, Nombre) VALUES (1008, 'Laura');\n",
        "INSERT INTO Estudiantes (EstudianteID, Nombre) VALUES (1009, 'Javier');\n",
        "INSERT INTO Estudiantes (EstudianteID, Nombre) VALUES (1010, 'Fernanda');\n",
        "\n",
        "INSERT INTO Cursos (CursoID, NombreCurso) VALUES (201, 'Matemáticas');\n",
        "INSERT INTO Cursos (CursoID, NombreCurso) VALUES (202, 'Historia');\n",
        "INSERT INTO Cursos (CursoID, NombreCurso) VALUES (203, 'Ciencias');\n",
        "INSERT INTO Cursos (CursoID, NombreCurso) VALUES (204, 'Literatura');\n",
        "INSERT INTO Cursos (CursoID, NombreCurso) VALUES (205, 'Geografía');\n",
        "\n",
        "INSERT INTO Calificaciones (CalificacionID, EstudianteID, CursoID, Nota) VALUES (1, 1001, 201, 88.5);\n",
        "INSERT INTO Calificaciones (CalificacionID, EstudianteID, CursoID, Nota) VALUES (2, 1002, 202, 92.0);\n",
        "INSERT INTO Calificaciones (CalificacionID, EstudianteID, CursoID, Nota) VALUES (3, 1003, 201, 81.0);\n",
        "INSERT INTO Calificaciones (CalificacionID, EstudianteID, CursoID, Nota) VALUES (4, 1004, 203, 79.5);\n",
        "INSERT INTO Calificaciones (CalificacionID, EstudianteID, CursoID, Nota) VALUES (5, 1005, 202, 84.0);\n",
        "INSERT INTO Calificaciones (CalificacionID, EstudianteID, CursoID, Nota) VALUES (6, 1006, 204, 91.5);\n",
        "INSERT INTO Calificaciones (CalificacionID, EstudianteID, CursoID, Nota) VALUES (7, 1007, 205, 75.5);\n",
        "INSERT INTO Calificaciones (CalificacionID, EstudianteID, CursoID, Nota) VALUES (8, 1008, 204, 87.0);\n",
        "INSERT INTO Calificaciones (CalificacionID, EstudianteID, CursoID, Nota) VALUES (9, 1009, 203, 82.5);\n",
        "INSERT INTO Calificaciones (CalificacionID, EstudianteID, CursoID, Nota) VALUES (10, 1010, 205, 78.0);\n",
        "INSERT INTO Calificaciones (CalificacionID, EstudianteID, CursoID, Nota) VALUES (11, 1002, 201, 90.0);\n",
        "INSERT INTO Calificaciones (CalificacionID, EstudianteID, CursoID, Nota) VALUES (12, 1006, 202, 88.0);\n",
        "INSERT INTO Calificaciones (CalificacionID, EstudianteID, CursoID, Nota) VALUES (13, 1003, 203, 85.0);\n",
        "INSERT INTO Calificaciones (CalificacionID, EstudianteID, CursoID, Nota) VALUES (14, 1007, 201, 80.5);\n",
        "INSERT INTO Calificaciones (CalificacionID, EstudianteID, CursoID, Nota) VALUES (15, 1005, 204, 89.5);\n"
      ],
      "id": "fqMJXxAUNiXw"
    },
    {
      "cell_type": "markdown",
      "metadata": {
        "id": "fxLxg4M1NiXw"
      },
      "source": [
        "**Consignas del ejercicio:**\n",
        "\n",
        "1. Encuentre el promedio de `Nota` para cada `Curso`."
      ],
      "id": "fxLxg4M1NiXw"
    },
    {
      "cell_type": "code",
      "execution_count": null,
      "metadata": {
        "id": "zMGp3kBgNiXw"
      },
      "outputs": [],
      "source": [
        "%%sql\n",
        "SELECT NombreCurso, AVG(Nota) AS PromedioNota\n",
        "FROM Cursos\n",
        "JOIN Calificaciones ON Cursos.CursoID = Calificaciones.CursoID\n",
        "GROUP BY NombreCurso;"
      ],
      "id": "zMGp3kBgNiXw"
    },
    {
      "cell_type": "markdown",
      "id": "722c022c",
      "metadata": {
        "id": "722c022c"
      },
      "source": [
        "2. Escriba el código SQL para listar los cursos con un promedio mayor a 85."
      ]
    },
    {
      "cell_type": "code",
      "execution_count": null,
      "metadata": {
        "id": "w_YVVudPNiXx"
      },
      "outputs": [],
      "source": [
        "%%sql\n",
        "SELECT NombreCurso, AVG(Nota) AS PromedioNota\n",
        "FROM Cursos\n",
        "JOIN Calificaciones ON Cursos.CursoID = Calificaciones.CursoID\n",
        "GROUP BY NombreCurso\n",
        "HAVING PromedioNota > 85;"
      ],
      "id": "w_YVVudPNiXx"
    },
    {
      "cell_type": "markdown",
      "id": "04841eea",
      "metadata": {
        "id": "04841eea"
      },
      "source": [
        "\n",
        "3. Agregue una columna que muestre el número de estudiantes que han tomado cada curso cuyo promedio supera 85, ordenados en forma descendente por promedio."
      ]
    },
    {
      "cell_type": "code",
      "execution_count": null,
      "metadata": {
        "id": "TBh31bsgNiXx"
      },
      "outputs": [],
      "source": [
        "%%sql\n",
        "%%sql\n",
        "SELECT CursoID, AVG(Nota) AS Promedio, COUNT(EstudianteID) AS NumEstudiantes\n",
        "FROM Calificaciones\n",
        "GROUP BY CursoID\n",
        "HAVING Promedio > 85\n",
        "ORDER BY Promedio DESC;"
      ],
      "id": "TBh31bsgNiXx"
    },
    {
      "cell_type": "markdown",
      "metadata": {
        "id": "ReFeNTPaNiXx"
      },
      "source": [
        "## Ejercicio 3: Conteo de Empleados por Departamento\n",
        "\n",
        "Tienes dos tablas llamadas `Empleados` y `Departamentos`:\n",
        "\n",
        "- La tabla `Empleados` tiene las siguientes columnas:\n",
        "  - `EmpleadoID` (INT)\n",
        "  - `Nombre` (VARCHAR)\n",
        "  - `DepartamentoID` (INT, FOREIGN KEY que referencia a `Departamentos(DepartamentoID)`)\n",
        "  - `Salario` (DECIMAL)\n",
        "\n",
        "- La tabla `Departamentos` tiene las siguientes columnas:\n",
        "  - `DepartamentoID` (INT, PRIMARY KEY)\n",
        "  - `NombreDepartamento` (VARCHAR)\n",
        "\n",
        "Deseas analizar la distribución de empleados en cada departamento, combinando la información de ambas tablas para mostrar el nombre del departamento y el número de empleados por cada uno.\n",
        "\n",
        "**Consignas a responder:**\n",
        "\n"
      ],
      "id": "ReFeNTPaNiXx"
    },
    {
      "cell_type": "code",
      "execution_count": null,
      "metadata": {
        "id": "TM-JwO9TNiXy"
      },
      "outputs": [],
      "source": [
        "%%sql\n",
        "create table Empleados (\n",
        "  EmpleadoID INT,\n",
        "  Nombre VARCHAR,\n",
        "  DepartamentoID INT,\n",
        "  Salario DECIMAL,\n",
        "  FOREIGN KEY (DepartamentoID) REFERENCES Departamentos(DepartamentoID)\n",
        ");\n",
        "create table Departamentos (\n",
        "  DepartamentoID INT PRIMARY KEY,\n",
        "  NombreDepartamento VARCHAR\n",
        ");"
      ],
      "id": "TM-JwO9TNiXy"
    },
    {
      "cell_type": "markdown",
      "metadata": {
        "id": "50OKu9KYNiXy"
      },
      "source": [
        "**Relleno de las tablas `Empleados` y `Departamentos`**\n",
        "\n"
      ],
      "id": "50OKu9KYNiXy"
    },
    {
      "cell_type": "code",
      "execution_count": null,
      "metadata": {
        "id": "6GvQ-IV1NiXy"
      },
      "outputs": [],
      "source": [
        "%%sql\n",
        "INSERT INTO Empleados (EmpleadoID, Nombre, DepartamentoID, Salario) VALUES (5, 'Laura', 101, 3100);\n",
        "INSERT INTO Empleados (EmpleadoID, Nombre, DepartamentoID, Salario) VALUES (6, 'Javier', 104, 3300);\n",
        "INSERT INTO Empleados (EmpleadoID, Nombre, DepartamentoID, Salario) VALUES (7, 'Sofia', 105, 2900);\n",
        "INSERT INTO Empleados (EmpleadoID, Nombre, DepartamentoID, Salario) VALUES (8, 'Lucas', 105, 3700);\n",
        "INSERT INTO Empleados (EmpleadoID, Nombre, DepartamentoID, Salario) VALUES (9, 'Fernanda', 101, 3200);\n",
        "INSERT INTO Empleados (EmpleadoID, Nombre, DepartamentoID, Salario) VALUES (10, 'Diego', 104, 3400);\n",
        "INSERT INTO Empleados (EmpleadoID, Nombre, DepartamentoID, Salario) VALUES (11, 'Martina', 103, 4000);\n",
        "INSERT INTO Empleados (EmpleadoID, Nombre, DepartamentoID, Salario) VALUES (12, 'Gustavo', 105, 2950);\n",
        "INSERT INTO Empleados (EmpleadoID, Nombre, DepartamentoID, Salario) VALUES (13, 'Liliana', 106, 3800);\n",
        "INSERT INTO Empleados (EmpleadoID, Nombre, DepartamentoID, Salario) VALUES (14, 'Gabriel', 106, 4100);\n",
        "INSERT INTO Empleados (EmpleadoID, Nombre, DepartamentoID, Salario) VALUES (15, 'Natalia', 102, 3600);\n",
        "\n",
        "INSERT INTO Departamentos (DepartamentoID, NombreDepartamento) VALUES (101, 'Marketing');\n",
        "INSERT INTO Departamentos (DepartamentoID, NombreDepartamento) VALUES (102, 'Ventas');\n",
        "INSERT INTO Departamentos (DepartamentoID, NombreDepartamento) VALUES (103, 'Recursos Humanos');\n",
        "INSERT INTO Departamentos (DepartamentoID, NombreDepartamento) VALUES (104, 'Desarrollo de Producto');\n",
        "INSERT INTO Departamentos (DepartamentoID, NombreDepartamento) VALUES (105, 'Investigación de Mercado');\n",
        "INSERT INTO Departamentos (DepartamentoID, NombreDepartamento) VALUES (106, 'Atención al Cliente');\n"
      ],
      "id": "6GvQ-IV1NiXy"
    },
    {
      "cell_type": "markdown",
      "metadata": {
        "id": "Oy_3JkD3NiXy"
      },
      "source": [
        "**Consignas del ejercicio:**\n",
        "\n",
        "1. Encuentre el número total de empleados en cada departamento.\n"
      ],
      "id": "Oy_3JkD3NiXy"
    },
    {
      "cell_type": "code",
      "execution_count": null,
      "metadata": {
        "id": "Z9-3BGMFNiXy",
        "colab": {
          "base_uri": "https://localhost:8080/"
        },
        "outputId": "37ed8d75-03cb-485a-99bd-f8c53a2f2699"
      },
      "outputs": [
        {
          "output_type": "stream",
          "name": "stderr",
          "text": [
            "UsageError: Cell magic `%%sql` not found.\n"
          ]
        }
      ],
      "source": [
        "%%sql\n",
        "SELECT DepartamentoID, COUNT(*) AS NumEmpleados\n",
        "FROM Empleados\n",
        "GROUP BY DepartamentoID;"
      ],
      "id": "Z9-3BGMFNiXy"
    },
    {
      "cell_type": "markdown",
      "id": "dd365a64",
      "metadata": {
        "id": "dd365a64"
      },
      "source": [
        "2. Escriba el código SQL para listar los departamentos que tienen más de 2 empleados."
      ]
    },
    {
      "cell_type": "code",
      "execution_count": null,
      "metadata": {
        "id": "UYodiO03NiXy"
      },
      "outputs": [],
      "source": [
        "%%sql\n",
        "SELECT DepartamentoID, COUNT(*) AS NumEmpleados\n",
        "FROM Empleados\n",
        "GROUP BY DepartamentoID\n",
        "HAVING NumEmpleados > 2;"
      ],
      "id": "UYodiO03NiXy"
    },
    {
      "cell_type": "markdown",
      "id": "67a157bb",
      "metadata": {
        "id": "67a157bb"
      },
      "source": [
        "\n",
        "3. Muestre el salario promedio de los empleados por cada departamento ordenados promedio en forma descendente."
      ]
    },
    {
      "cell_type": "code",
      "execution_count": null,
      "metadata": {
        "id": "xfVqujA5NiXy"
      },
      "outputs": [],
      "source": [
        "%%sql\n",
        "SELECT DepartamentoID, AVG(Salario) AS SalarioPromedio\n",
        "FROM Empleados\n",
        "GROUP BY DepartamentoID\n",
        "ORDER BY SalarioPromedio DESC;"
      ],
      "id": "xfVqujA5NiXy"
    }
  ],
  "metadata": {
    "colab": {
      "provenance": []
    },
    "kernelspec": {
      "display_name": "Python 3",
      "name": "python3"
    },
    "language_info": {
      "name": "python"
    }
  },
  "nbformat": 4,
  "nbformat_minor": 5
}